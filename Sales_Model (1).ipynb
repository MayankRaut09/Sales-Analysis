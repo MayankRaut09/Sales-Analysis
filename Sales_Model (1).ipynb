{
  "nbformat": 4,
  "nbformat_minor": 0,
  "metadata": {
    "colab": {
      "provenance": []
    },
    "kernelspec": {
      "name": "python3",
      "display_name": "Python 3"
    },
    "language_info": {
      "name": "python"
    }
  },
  "cells": [
    {
      "cell_type": "markdown",
      "source": [
        "# Importing The Libraries"
      ],
      "metadata": {
        "id": "D41pQ4BEpmpO"
      }
    },
    {
      "cell_type": "code",
      "source": [
        "import pandas as pd\n",
        "import numpy as np\n",
        "import matplotlib.pyplot as plt\n",
        "import seaborn as sns"
      ],
      "metadata": {
        "id": "Brmbqsih6PGW"
      },
      "execution_count": null,
      "outputs": []
    },
    {
      "cell_type": "markdown",
      "source": [
        "# Importing The Dataset"
      ],
      "metadata": {
        "id": "zmMqeft-ppwj"
      }
    },
    {
      "cell_type": "code",
      "source": [
        "sales = pd.read_csv(\"/content/sample_data/sales 3.csv\")"
      ],
      "metadata": {
        "id": "eaYUTTm_60Za"
      },
      "execution_count": null,
      "outputs": []
    },
    {
      "cell_type": "code",
      "source": [
        "sales.head()"
      ],
      "metadata": {
        "id": "JlShXQ4D7Eoy",
        "colab": {
          "base_uri": "https://localhost:8080/",
          "height": 206
        },
        "outputId": "405e3dc2-4494-4af3-b97e-0caf5753c5dc"
      },
      "execution_count": null,
      "outputs": [
        {
          "output_type": "execute_result",
          "data": {
            "text/plain": [
              "  Order ID Customer Name          Category      Sub Category         City  \\\n",
              "0      OD1        Harish      Oil & Masala           Masalas      Vellore   \n",
              "1      OD2         Sudha         Beverages     Health Drinks  Krishnagiri   \n",
              "2      OD3       Hussain       Food Grains      Atta & Flour   Perambalur   \n",
              "3      OD4       Jackson  Fruits & Veggies  Fresh Vegetables   Dharmapuri   \n",
              "4      OD5       Ridhesh       Food Grains   Organic Staples         Ooty   \n",
              "\n",
              "   Order Date Region  Sales  Discount  Profit       State  Month  Year  \\\n",
              "0  08-11-2017  North   1254      0.12     401  Tamil Nadu     11  2017   \n",
              "1  08-11-2017  South    749      0.18     150  Tamil Nadu     11  2017   \n",
              "2  12-06-2017   West   2360      0.21     165  Tamil Nadu      6  2017   \n",
              "3  11-10-2016  South    896      0.25      90  Tamil Nadu     10  2016   \n",
              "4  11-10-2016  South   2355      0.26     918  Tamil Nadu     10  2016   \n",
              "\n",
              "    ticket size  \n",
              "0  Medium Value  \n",
              "1     Low Value  \n",
              "2    High Value  \n",
              "3     Low Value  \n",
              "4    High Value  "
            ],
            "text/html": [
              "\n",
              "  <div id=\"df-467cd713-b804-4349-bf81-b491ef1c8c59\">\n",
              "    <div class=\"colab-df-container\">\n",
              "      <div>\n",
              "<style scoped>\n",
              "    .dataframe tbody tr th:only-of-type {\n",
              "        vertical-align: middle;\n",
              "    }\n",
              "\n",
              "    .dataframe tbody tr th {\n",
              "        vertical-align: top;\n",
              "    }\n",
              "\n",
              "    .dataframe thead th {\n",
              "        text-align: right;\n",
              "    }\n",
              "</style>\n",
              "<table border=\"1\" class=\"dataframe\">\n",
              "  <thead>\n",
              "    <tr style=\"text-align: right;\">\n",
              "      <th></th>\n",
              "      <th>Order ID</th>\n",
              "      <th>Customer Name</th>\n",
              "      <th>Category</th>\n",
              "      <th>Sub Category</th>\n",
              "      <th>City</th>\n",
              "      <th>Order Date</th>\n",
              "      <th>Region</th>\n",
              "      <th>Sales</th>\n",
              "      <th>Discount</th>\n",
              "      <th>Profit</th>\n",
              "      <th>State</th>\n",
              "      <th>Month</th>\n",
              "      <th>Year</th>\n",
              "      <th>ticket size</th>\n",
              "    </tr>\n",
              "  </thead>\n",
              "  <tbody>\n",
              "    <tr>\n",
              "      <th>0</th>\n",
              "      <td>OD1</td>\n",
              "      <td>Harish</td>\n",
              "      <td>Oil &amp; Masala</td>\n",
              "      <td>Masalas</td>\n",
              "      <td>Vellore</td>\n",
              "      <td>08-11-2017</td>\n",
              "      <td>North</td>\n",
              "      <td>1254</td>\n",
              "      <td>0.12</td>\n",
              "      <td>401</td>\n",
              "      <td>Tamil Nadu</td>\n",
              "      <td>11</td>\n",
              "      <td>2017</td>\n",
              "      <td>Medium Value</td>\n",
              "    </tr>\n",
              "    <tr>\n",
              "      <th>1</th>\n",
              "      <td>OD2</td>\n",
              "      <td>Sudha</td>\n",
              "      <td>Beverages</td>\n",
              "      <td>Health Drinks</td>\n",
              "      <td>Krishnagiri</td>\n",
              "      <td>08-11-2017</td>\n",
              "      <td>South</td>\n",
              "      <td>749</td>\n",
              "      <td>0.18</td>\n",
              "      <td>150</td>\n",
              "      <td>Tamil Nadu</td>\n",
              "      <td>11</td>\n",
              "      <td>2017</td>\n",
              "      <td>Low Value</td>\n",
              "    </tr>\n",
              "    <tr>\n",
              "      <th>2</th>\n",
              "      <td>OD3</td>\n",
              "      <td>Hussain</td>\n",
              "      <td>Food Grains</td>\n",
              "      <td>Atta &amp; Flour</td>\n",
              "      <td>Perambalur</td>\n",
              "      <td>12-06-2017</td>\n",
              "      <td>West</td>\n",
              "      <td>2360</td>\n",
              "      <td>0.21</td>\n",
              "      <td>165</td>\n",
              "      <td>Tamil Nadu</td>\n",
              "      <td>6</td>\n",
              "      <td>2017</td>\n",
              "      <td>High Value</td>\n",
              "    </tr>\n",
              "    <tr>\n",
              "      <th>3</th>\n",
              "      <td>OD4</td>\n",
              "      <td>Jackson</td>\n",
              "      <td>Fruits &amp; Veggies</td>\n",
              "      <td>Fresh Vegetables</td>\n",
              "      <td>Dharmapuri</td>\n",
              "      <td>11-10-2016</td>\n",
              "      <td>South</td>\n",
              "      <td>896</td>\n",
              "      <td>0.25</td>\n",
              "      <td>90</td>\n",
              "      <td>Tamil Nadu</td>\n",
              "      <td>10</td>\n",
              "      <td>2016</td>\n",
              "      <td>Low Value</td>\n",
              "    </tr>\n",
              "    <tr>\n",
              "      <th>4</th>\n",
              "      <td>OD5</td>\n",
              "      <td>Ridhesh</td>\n",
              "      <td>Food Grains</td>\n",
              "      <td>Organic Staples</td>\n",
              "      <td>Ooty</td>\n",
              "      <td>11-10-2016</td>\n",
              "      <td>South</td>\n",
              "      <td>2355</td>\n",
              "      <td>0.26</td>\n",
              "      <td>918</td>\n",
              "      <td>Tamil Nadu</td>\n",
              "      <td>10</td>\n",
              "      <td>2016</td>\n",
              "      <td>High Value</td>\n",
              "    </tr>\n",
              "  </tbody>\n",
              "</table>\n",
              "</div>\n",
              "      <button class=\"colab-df-convert\" onclick=\"convertToInteractive('df-467cd713-b804-4349-bf81-b491ef1c8c59')\"\n",
              "              title=\"Convert this dataframe to an interactive table.\"\n",
              "              style=\"display:none;\">\n",
              "        \n",
              "  <svg xmlns=\"http://www.w3.org/2000/svg\" height=\"24px\"viewBox=\"0 0 24 24\"\n",
              "       width=\"24px\">\n",
              "    <path d=\"M0 0h24v24H0V0z\" fill=\"none\"/>\n",
              "    <path d=\"M18.56 5.44l.94 2.06.94-2.06 2.06-.94-2.06-.94-.94-2.06-.94 2.06-2.06.94zm-11 1L8.5 8.5l.94-2.06 2.06-.94-2.06-.94L8.5 2.5l-.94 2.06-2.06.94zm10 10l.94 2.06.94-2.06 2.06-.94-2.06-.94-.94-2.06-.94 2.06-2.06.94z\"/><path d=\"M17.41 7.96l-1.37-1.37c-.4-.4-.92-.59-1.43-.59-.52 0-1.04.2-1.43.59L10.3 9.45l-7.72 7.72c-.78.78-.78 2.05 0 2.83L4 21.41c.39.39.9.59 1.41.59.51 0 1.02-.2 1.41-.59l7.78-7.78 2.81-2.81c.8-.78.8-2.07 0-2.86zM5.41 20L4 18.59l7.72-7.72 1.47 1.35L5.41 20z\"/>\n",
              "  </svg>\n",
              "      </button>\n",
              "      \n",
              "  <style>\n",
              "    .colab-df-container {\n",
              "      display:flex;\n",
              "      flex-wrap:wrap;\n",
              "      gap: 12px;\n",
              "    }\n",
              "\n",
              "    .colab-df-convert {\n",
              "      background-color: #E8F0FE;\n",
              "      border: none;\n",
              "      border-radius: 50%;\n",
              "      cursor: pointer;\n",
              "      display: none;\n",
              "      fill: #1967D2;\n",
              "      height: 32px;\n",
              "      padding: 0 0 0 0;\n",
              "      width: 32px;\n",
              "    }\n",
              "\n",
              "    .colab-df-convert:hover {\n",
              "      background-color: #E2EBFA;\n",
              "      box-shadow: 0px 1px 2px rgba(60, 64, 67, 0.3), 0px 1px 3px 1px rgba(60, 64, 67, 0.15);\n",
              "      fill: #174EA6;\n",
              "    }\n",
              "\n",
              "    [theme=dark] .colab-df-convert {\n",
              "      background-color: #3B4455;\n",
              "      fill: #D2E3FC;\n",
              "    }\n",
              "\n",
              "    [theme=dark] .colab-df-convert:hover {\n",
              "      background-color: #434B5C;\n",
              "      box-shadow: 0px 1px 3px 1px rgba(0, 0, 0, 0.15);\n",
              "      filter: drop-shadow(0px 1px 2px rgba(0, 0, 0, 0.3));\n",
              "      fill: #FFFFFF;\n",
              "    }\n",
              "  </style>\n",
              "\n",
              "      <script>\n",
              "        const buttonEl =\n",
              "          document.querySelector('#df-467cd713-b804-4349-bf81-b491ef1c8c59 button.colab-df-convert');\n",
              "        buttonEl.style.display =\n",
              "          google.colab.kernel.accessAllowed ? 'block' : 'none';\n",
              "\n",
              "        async function convertToInteractive(key) {\n",
              "          const element = document.querySelector('#df-467cd713-b804-4349-bf81-b491ef1c8c59');\n",
              "          const dataTable =\n",
              "            await google.colab.kernel.invokeFunction('convertToInteractive',\n",
              "                                                     [key], {});\n",
              "          if (!dataTable) return;\n",
              "\n",
              "          const docLinkHtml = 'Like what you see? Visit the ' +\n",
              "            '<a target=\"_blank\" href=https://colab.research.google.com/notebooks/data_table.ipynb>data table notebook</a>'\n",
              "            + ' to learn more about interactive tables.';\n",
              "          element.innerHTML = '';\n",
              "          dataTable['output_type'] = 'display_data';\n",
              "          await google.colab.output.renderOutput(dataTable, element);\n",
              "          const docLink = document.createElement('div');\n",
              "          docLink.innerHTML = docLinkHtml;\n",
              "          element.appendChild(docLink);\n",
              "        }\n",
              "      </script>\n",
              "    </div>\n",
              "  </div>\n",
              "  "
            ]
          },
          "metadata": {},
          "execution_count": 6
        }
      ]
    },
    {
      "cell_type": "code",
      "source": [
        "sales.tail()"
      ],
      "metadata": {
        "colab": {
          "base_uri": "https://localhost:8080/",
          "height": 206
        },
        "id": "U1Wo1wVMCui1",
        "outputId": "04200aa4-9087-4fd8-937a-b73d0cb9a0e2"
      },
      "execution_count": null,
      "outputs": [
        {
          "output_type": "execute_result",
          "data": {
            "text/plain": [
              "     Order ID Customer Name           Category  Sub Category         City  \\\n",
              "9989   OD9990        Sudeep  Eggs, Meat & Fish          Eggs      Madurai   \n",
              "9990   OD9991          Alan             Bakery      Biscuits  Kanyakumari   \n",
              "9991   OD9992          Ravi        Food Grains          Rice         Bodi   \n",
              "9992   OD9993          Peer       Oil & Masala        Spices   Pudukottai   \n",
              "9993   OD9994        Ganesh        Food Grains  Atta & Flour  Tirunelveli   \n",
              "\n",
              "      Order Date Region  Sales  Discount  Profit       State  Month  Year  \\\n",
              "9989  24-12-2015   West    945      0.16     359  Tamil Nadu     12  2015   \n",
              "9990  12-07-2015   West   1195      0.26      72  Tamil Nadu      7  2015   \n",
              "9991  06-06-2017   West   1567      0.16     501  Tamil Nadu      6  2017   \n",
              "9992  16-10-2018   West   1659      0.15     597  Tamil Nadu     10  2018   \n",
              "9993  17-04-2018   West   1034      0.28     165  Tamil Nadu      4  2018   \n",
              "\n",
              "     ticket size  \n",
              "9989   Low Value  \n",
              "9990   Low Value  \n",
              "9991  High Value  \n",
              "9992  High Value  \n",
              "9993   Low Value  "
            ],
            "text/html": [
              "\n",
              "  <div id=\"df-a35ec2cd-d60b-4cea-b97a-2236c0c4fe3b\">\n",
              "    <div class=\"colab-df-container\">\n",
              "      <div>\n",
              "<style scoped>\n",
              "    .dataframe tbody tr th:only-of-type {\n",
              "        vertical-align: middle;\n",
              "    }\n",
              "\n",
              "    .dataframe tbody tr th {\n",
              "        vertical-align: top;\n",
              "    }\n",
              "\n",
              "    .dataframe thead th {\n",
              "        text-align: right;\n",
              "    }\n",
              "</style>\n",
              "<table border=\"1\" class=\"dataframe\">\n",
              "  <thead>\n",
              "    <tr style=\"text-align: right;\">\n",
              "      <th></th>\n",
              "      <th>Order ID</th>\n",
              "      <th>Customer Name</th>\n",
              "      <th>Category</th>\n",
              "      <th>Sub Category</th>\n",
              "      <th>City</th>\n",
              "      <th>Order Date</th>\n",
              "      <th>Region</th>\n",
              "      <th>Sales</th>\n",
              "      <th>Discount</th>\n",
              "      <th>Profit</th>\n",
              "      <th>State</th>\n",
              "      <th>Month</th>\n",
              "      <th>Year</th>\n",
              "      <th>ticket size</th>\n",
              "    </tr>\n",
              "  </thead>\n",
              "  <tbody>\n",
              "    <tr>\n",
              "      <th>9989</th>\n",
              "      <td>OD9990</td>\n",
              "      <td>Sudeep</td>\n",
              "      <td>Eggs, Meat &amp; Fish</td>\n",
              "      <td>Eggs</td>\n",
              "      <td>Madurai</td>\n",
              "      <td>24-12-2015</td>\n",
              "      <td>West</td>\n",
              "      <td>945</td>\n",
              "      <td>0.16</td>\n",
              "      <td>359</td>\n",
              "      <td>Tamil Nadu</td>\n",
              "      <td>12</td>\n",
              "      <td>2015</td>\n",
              "      <td>Low Value</td>\n",
              "    </tr>\n",
              "    <tr>\n",
              "      <th>9990</th>\n",
              "      <td>OD9991</td>\n",
              "      <td>Alan</td>\n",
              "      <td>Bakery</td>\n",
              "      <td>Biscuits</td>\n",
              "      <td>Kanyakumari</td>\n",
              "      <td>12-07-2015</td>\n",
              "      <td>West</td>\n",
              "      <td>1195</td>\n",
              "      <td>0.26</td>\n",
              "      <td>72</td>\n",
              "      <td>Tamil Nadu</td>\n",
              "      <td>7</td>\n",
              "      <td>2015</td>\n",
              "      <td>Low Value</td>\n",
              "    </tr>\n",
              "    <tr>\n",
              "      <th>9991</th>\n",
              "      <td>OD9992</td>\n",
              "      <td>Ravi</td>\n",
              "      <td>Food Grains</td>\n",
              "      <td>Rice</td>\n",
              "      <td>Bodi</td>\n",
              "      <td>06-06-2017</td>\n",
              "      <td>West</td>\n",
              "      <td>1567</td>\n",
              "      <td>0.16</td>\n",
              "      <td>501</td>\n",
              "      <td>Tamil Nadu</td>\n",
              "      <td>6</td>\n",
              "      <td>2017</td>\n",
              "      <td>High Value</td>\n",
              "    </tr>\n",
              "    <tr>\n",
              "      <th>9992</th>\n",
              "      <td>OD9993</td>\n",
              "      <td>Peer</td>\n",
              "      <td>Oil &amp; Masala</td>\n",
              "      <td>Spices</td>\n",
              "      <td>Pudukottai</td>\n",
              "      <td>16-10-2018</td>\n",
              "      <td>West</td>\n",
              "      <td>1659</td>\n",
              "      <td>0.15</td>\n",
              "      <td>597</td>\n",
              "      <td>Tamil Nadu</td>\n",
              "      <td>10</td>\n",
              "      <td>2018</td>\n",
              "      <td>High Value</td>\n",
              "    </tr>\n",
              "    <tr>\n",
              "      <th>9993</th>\n",
              "      <td>OD9994</td>\n",
              "      <td>Ganesh</td>\n",
              "      <td>Food Grains</td>\n",
              "      <td>Atta &amp; Flour</td>\n",
              "      <td>Tirunelveli</td>\n",
              "      <td>17-04-2018</td>\n",
              "      <td>West</td>\n",
              "      <td>1034</td>\n",
              "      <td>0.28</td>\n",
              "      <td>165</td>\n",
              "      <td>Tamil Nadu</td>\n",
              "      <td>4</td>\n",
              "      <td>2018</td>\n",
              "      <td>Low Value</td>\n",
              "    </tr>\n",
              "  </tbody>\n",
              "</table>\n",
              "</div>\n",
              "      <button class=\"colab-df-convert\" onclick=\"convertToInteractive('df-a35ec2cd-d60b-4cea-b97a-2236c0c4fe3b')\"\n",
              "              title=\"Convert this dataframe to an interactive table.\"\n",
              "              style=\"display:none;\">\n",
              "        \n",
              "  <svg xmlns=\"http://www.w3.org/2000/svg\" height=\"24px\"viewBox=\"0 0 24 24\"\n",
              "       width=\"24px\">\n",
              "    <path d=\"M0 0h24v24H0V0z\" fill=\"none\"/>\n",
              "    <path d=\"M18.56 5.44l.94 2.06.94-2.06 2.06-.94-2.06-.94-.94-2.06-.94 2.06-2.06.94zm-11 1L8.5 8.5l.94-2.06 2.06-.94-2.06-.94L8.5 2.5l-.94 2.06-2.06.94zm10 10l.94 2.06.94-2.06 2.06-.94-2.06-.94-.94-2.06-.94 2.06-2.06.94z\"/><path d=\"M17.41 7.96l-1.37-1.37c-.4-.4-.92-.59-1.43-.59-.52 0-1.04.2-1.43.59L10.3 9.45l-7.72 7.72c-.78.78-.78 2.05 0 2.83L4 21.41c.39.39.9.59 1.41.59.51 0 1.02-.2 1.41-.59l7.78-7.78 2.81-2.81c.8-.78.8-2.07 0-2.86zM5.41 20L4 18.59l7.72-7.72 1.47 1.35L5.41 20z\"/>\n",
              "  </svg>\n",
              "      </button>\n",
              "      \n",
              "  <style>\n",
              "    .colab-df-container {\n",
              "      display:flex;\n",
              "      flex-wrap:wrap;\n",
              "      gap: 12px;\n",
              "    }\n",
              "\n",
              "    .colab-df-convert {\n",
              "      background-color: #E8F0FE;\n",
              "      border: none;\n",
              "      border-radius: 50%;\n",
              "      cursor: pointer;\n",
              "      display: none;\n",
              "      fill: #1967D2;\n",
              "      height: 32px;\n",
              "      padding: 0 0 0 0;\n",
              "      width: 32px;\n",
              "    }\n",
              "\n",
              "    .colab-df-convert:hover {\n",
              "      background-color: #E2EBFA;\n",
              "      box-shadow: 0px 1px 2px rgba(60, 64, 67, 0.3), 0px 1px 3px 1px rgba(60, 64, 67, 0.15);\n",
              "      fill: #174EA6;\n",
              "    }\n",
              "\n",
              "    [theme=dark] .colab-df-convert {\n",
              "      background-color: #3B4455;\n",
              "      fill: #D2E3FC;\n",
              "    }\n",
              "\n",
              "    [theme=dark] .colab-df-convert:hover {\n",
              "      background-color: #434B5C;\n",
              "      box-shadow: 0px 1px 3px 1px rgba(0, 0, 0, 0.15);\n",
              "      filter: drop-shadow(0px 1px 2px rgba(0, 0, 0, 0.3));\n",
              "      fill: #FFFFFF;\n",
              "    }\n",
              "  </style>\n",
              "\n",
              "      <script>\n",
              "        const buttonEl =\n",
              "          document.querySelector('#df-a35ec2cd-d60b-4cea-b97a-2236c0c4fe3b button.colab-df-convert');\n",
              "        buttonEl.style.display =\n",
              "          google.colab.kernel.accessAllowed ? 'block' : 'none';\n",
              "\n",
              "        async function convertToInteractive(key) {\n",
              "          const element = document.querySelector('#df-a35ec2cd-d60b-4cea-b97a-2236c0c4fe3b');\n",
              "          const dataTable =\n",
              "            await google.colab.kernel.invokeFunction('convertToInteractive',\n",
              "                                                     [key], {});\n",
              "          if (!dataTable) return;\n",
              "\n",
              "          const docLinkHtml = 'Like what you see? Visit the ' +\n",
              "            '<a target=\"_blank\" href=https://colab.research.google.com/notebooks/data_table.ipynb>data table notebook</a>'\n",
              "            + ' to learn more about interactive tables.';\n",
              "          element.innerHTML = '';\n",
              "          dataTable['output_type'] = 'display_data';\n",
              "          await google.colab.output.renderOutput(dataTable, element);\n",
              "          const docLink = document.createElement('div');\n",
              "          docLink.innerHTML = docLinkHtml;\n",
              "          element.appendChild(docLink);\n",
              "        }\n",
              "      </script>\n",
              "    </div>\n",
              "  </div>\n",
              "  "
            ]
          },
          "metadata": {},
          "execution_count": 7
        }
      ]
    },
    {
      "cell_type": "code",
      "source": [
        "sales.describe()"
      ],
      "metadata": {
        "colab": {
          "base_uri": "https://localhost:8080/",
          "height": 300
        },
        "id": "rohZ-0XtCwvt",
        "outputId": "c5699b93-6fd0-4713-f60e-3e5228400e47"
      },
      "execution_count": null,
      "outputs": [
        {
          "output_type": "execute_result",
          "data": {
            "text/plain": [
              "             Sales     Discount       Profit        Month         Year\n",
              "count  9994.000000  9994.000000  9994.000000  9994.000000  9994.000000\n",
              "mean   1496.596158     0.226817   374.948369     7.809686  2016.722233\n",
              "std     577.559036     0.074636   239.934373     3.284654     1.123555\n",
              "min     500.000000     0.100000    25.000000     1.000000  2015.000000\n",
              "25%    1000.000000     0.160000   180.000000     5.000000  2016.000000\n",
              "50%    1498.000000     0.230000   321.000000     9.000000  2017.000000\n",
              "75%    1994.750000     0.290000   525.750000    11.000000  2018.000000\n",
              "max    2500.000000     0.350000  1121.000000    12.000000  2018.000000"
            ],
            "text/html": [
              "\n",
              "  <div id=\"df-200e63a3-b7f9-4d33-a75e-5fc2e4fbd1b1\">\n",
              "    <div class=\"colab-df-container\">\n",
              "      <div>\n",
              "<style scoped>\n",
              "    .dataframe tbody tr th:only-of-type {\n",
              "        vertical-align: middle;\n",
              "    }\n",
              "\n",
              "    .dataframe tbody tr th {\n",
              "        vertical-align: top;\n",
              "    }\n",
              "\n",
              "    .dataframe thead th {\n",
              "        text-align: right;\n",
              "    }\n",
              "</style>\n",
              "<table border=\"1\" class=\"dataframe\">\n",
              "  <thead>\n",
              "    <tr style=\"text-align: right;\">\n",
              "      <th></th>\n",
              "      <th>Sales</th>\n",
              "      <th>Discount</th>\n",
              "      <th>Profit</th>\n",
              "      <th>Month</th>\n",
              "      <th>Year</th>\n",
              "    </tr>\n",
              "  </thead>\n",
              "  <tbody>\n",
              "    <tr>\n",
              "      <th>count</th>\n",
              "      <td>9994.000000</td>\n",
              "      <td>9994.000000</td>\n",
              "      <td>9994.000000</td>\n",
              "      <td>9994.000000</td>\n",
              "      <td>9994.000000</td>\n",
              "    </tr>\n",
              "    <tr>\n",
              "      <th>mean</th>\n",
              "      <td>1496.596158</td>\n",
              "      <td>0.226817</td>\n",
              "      <td>374.948369</td>\n",
              "      <td>7.809686</td>\n",
              "      <td>2016.722233</td>\n",
              "    </tr>\n",
              "    <tr>\n",
              "      <th>std</th>\n",
              "      <td>577.559036</td>\n",
              "      <td>0.074636</td>\n",
              "      <td>239.934373</td>\n",
              "      <td>3.284654</td>\n",
              "      <td>1.123555</td>\n",
              "    </tr>\n",
              "    <tr>\n",
              "      <th>min</th>\n",
              "      <td>500.000000</td>\n",
              "      <td>0.100000</td>\n",
              "      <td>25.000000</td>\n",
              "      <td>1.000000</td>\n",
              "      <td>2015.000000</td>\n",
              "    </tr>\n",
              "    <tr>\n",
              "      <th>25%</th>\n",
              "      <td>1000.000000</td>\n",
              "      <td>0.160000</td>\n",
              "      <td>180.000000</td>\n",
              "      <td>5.000000</td>\n",
              "      <td>2016.000000</td>\n",
              "    </tr>\n",
              "    <tr>\n",
              "      <th>50%</th>\n",
              "      <td>1498.000000</td>\n",
              "      <td>0.230000</td>\n",
              "      <td>321.000000</td>\n",
              "      <td>9.000000</td>\n",
              "      <td>2017.000000</td>\n",
              "    </tr>\n",
              "    <tr>\n",
              "      <th>75%</th>\n",
              "      <td>1994.750000</td>\n",
              "      <td>0.290000</td>\n",
              "      <td>525.750000</td>\n",
              "      <td>11.000000</td>\n",
              "      <td>2018.000000</td>\n",
              "    </tr>\n",
              "    <tr>\n",
              "      <th>max</th>\n",
              "      <td>2500.000000</td>\n",
              "      <td>0.350000</td>\n",
              "      <td>1121.000000</td>\n",
              "      <td>12.000000</td>\n",
              "      <td>2018.000000</td>\n",
              "    </tr>\n",
              "  </tbody>\n",
              "</table>\n",
              "</div>\n",
              "      <button class=\"colab-df-convert\" onclick=\"convertToInteractive('df-200e63a3-b7f9-4d33-a75e-5fc2e4fbd1b1')\"\n",
              "              title=\"Convert this dataframe to an interactive table.\"\n",
              "              style=\"display:none;\">\n",
              "        \n",
              "  <svg xmlns=\"http://www.w3.org/2000/svg\" height=\"24px\"viewBox=\"0 0 24 24\"\n",
              "       width=\"24px\">\n",
              "    <path d=\"M0 0h24v24H0V0z\" fill=\"none\"/>\n",
              "    <path d=\"M18.56 5.44l.94 2.06.94-2.06 2.06-.94-2.06-.94-.94-2.06-.94 2.06-2.06.94zm-11 1L8.5 8.5l.94-2.06 2.06-.94-2.06-.94L8.5 2.5l-.94 2.06-2.06.94zm10 10l.94 2.06.94-2.06 2.06-.94-2.06-.94-.94-2.06-.94 2.06-2.06.94z\"/><path d=\"M17.41 7.96l-1.37-1.37c-.4-.4-.92-.59-1.43-.59-.52 0-1.04.2-1.43.59L10.3 9.45l-7.72 7.72c-.78.78-.78 2.05 0 2.83L4 21.41c.39.39.9.59 1.41.59.51 0 1.02-.2 1.41-.59l7.78-7.78 2.81-2.81c.8-.78.8-2.07 0-2.86zM5.41 20L4 18.59l7.72-7.72 1.47 1.35L5.41 20z\"/>\n",
              "  </svg>\n",
              "      </button>\n",
              "      \n",
              "  <style>\n",
              "    .colab-df-container {\n",
              "      display:flex;\n",
              "      flex-wrap:wrap;\n",
              "      gap: 12px;\n",
              "    }\n",
              "\n",
              "    .colab-df-convert {\n",
              "      background-color: #E8F0FE;\n",
              "      border: none;\n",
              "      border-radius: 50%;\n",
              "      cursor: pointer;\n",
              "      display: none;\n",
              "      fill: #1967D2;\n",
              "      height: 32px;\n",
              "      padding: 0 0 0 0;\n",
              "      width: 32px;\n",
              "    }\n",
              "\n",
              "    .colab-df-convert:hover {\n",
              "      background-color: #E2EBFA;\n",
              "      box-shadow: 0px 1px 2px rgba(60, 64, 67, 0.3), 0px 1px 3px 1px rgba(60, 64, 67, 0.15);\n",
              "      fill: #174EA6;\n",
              "    }\n",
              "\n",
              "    [theme=dark] .colab-df-convert {\n",
              "      background-color: #3B4455;\n",
              "      fill: #D2E3FC;\n",
              "    }\n",
              "\n",
              "    [theme=dark] .colab-df-convert:hover {\n",
              "      background-color: #434B5C;\n",
              "      box-shadow: 0px 1px 3px 1px rgba(0, 0, 0, 0.15);\n",
              "      filter: drop-shadow(0px 1px 2px rgba(0, 0, 0, 0.3));\n",
              "      fill: #FFFFFF;\n",
              "    }\n",
              "  </style>\n",
              "\n",
              "      <script>\n",
              "        const buttonEl =\n",
              "          document.querySelector('#df-200e63a3-b7f9-4d33-a75e-5fc2e4fbd1b1 button.colab-df-convert');\n",
              "        buttonEl.style.display =\n",
              "          google.colab.kernel.accessAllowed ? 'block' : 'none';\n",
              "\n",
              "        async function convertToInteractive(key) {\n",
              "          const element = document.querySelector('#df-200e63a3-b7f9-4d33-a75e-5fc2e4fbd1b1');\n",
              "          const dataTable =\n",
              "            await google.colab.kernel.invokeFunction('convertToInteractive',\n",
              "                                                     [key], {});\n",
              "          if (!dataTable) return;\n",
              "\n",
              "          const docLinkHtml = 'Like what you see? Visit the ' +\n",
              "            '<a target=\"_blank\" href=https://colab.research.google.com/notebooks/data_table.ipynb>data table notebook</a>'\n",
              "            + ' to learn more about interactive tables.';\n",
              "          element.innerHTML = '';\n",
              "          dataTable['output_type'] = 'display_data';\n",
              "          await google.colab.output.renderOutput(dataTable, element);\n",
              "          const docLink = document.createElement('div');\n",
              "          docLink.innerHTML = docLinkHtml;\n",
              "          element.appendChild(docLink);\n",
              "        }\n",
              "      </script>\n",
              "    </div>\n",
              "  </div>\n",
              "  "
            ]
          },
          "metadata": {},
          "execution_count": 8
        }
      ]
    },
    {
      "cell_type": "code",
      "source": [
        "sales.info()"
      ],
      "metadata": {
        "colab": {
          "base_uri": "https://localhost:8080/"
        },
        "id": "uNQtPo-PDGiU",
        "outputId": "00cdd37d-19fd-421a-e7f7-7483174b236f"
      },
      "execution_count": null,
      "outputs": [
        {
          "output_type": "stream",
          "name": "stdout",
          "text": [
            "<class 'pandas.core.frame.DataFrame'>\n",
            "RangeIndex: 9994 entries, 0 to 9993\n",
            "Data columns (total 14 columns):\n",
            " #   Column         Non-Null Count  Dtype  \n",
            "---  ------         --------------  -----  \n",
            " 0   Order ID       9994 non-null   object \n",
            " 1   Customer Name  9994 non-null   object \n",
            " 2   Category       9994 non-null   object \n",
            " 3   Sub Category   9994 non-null   object \n",
            " 4   City           9994 non-null   object \n",
            " 5   Order Date     9994 non-null   object \n",
            " 6   Region         9994 non-null   object \n",
            " 7   Sales          9994 non-null   int64  \n",
            " 8   Discount       9994 non-null   float64\n",
            " 9   Profit         9994 non-null   int64  \n",
            " 10  State          9994 non-null   object \n",
            " 11  Month          9994 non-null   int64  \n",
            " 12  Year           9994 non-null   int64  \n",
            " 13  ticket size    9994 non-null   object \n",
            "dtypes: float64(1), int64(4), object(9)\n",
            "memory usage: 1.1+ MB\n"
          ]
        }
      ]
    },
    {
      "cell_type": "code",
      "source": [
        "sales.isnull().sum()"
      ],
      "metadata": {
        "colab": {
          "base_uri": "https://localhost:8080/"
        },
        "id": "Hd-797OuDIkm",
        "outputId": "2dd96794-9c0a-485a-946b-e8b34db734ea"
      },
      "execution_count": null,
      "outputs": [
        {
          "output_type": "execute_result",
          "data": {
            "text/plain": [
              "Order ID         0\n",
              "Customer Name    0\n",
              "Category         0\n",
              "Sub Category     0\n",
              "City             0\n",
              "Order Date       0\n",
              "Region           0\n",
              "Sales            0\n",
              "Discount         0\n",
              "Profit           0\n",
              "State            0\n",
              "Month            0\n",
              "Year             0\n",
              "ticket size      0\n",
              "dtype: int64"
            ]
          },
          "metadata": {},
          "execution_count": 10
        }
      ]
    },
    {
      "cell_type": "markdown",
      "source": [
        "# Removing Unwanted Columns"
      ],
      "metadata": {
        "id": "5tmhWMK6IUID"
      }
    },
    {
      "cell_type": "code",
      "source": [
        "sales.drop([\"Order ID\", \"Customer Name\", \"State\"],axis=1,inplace=True)"
      ],
      "metadata": {
        "id": "pthKBM91IVF8"
      },
      "execution_count": null,
      "outputs": []
    },
    {
      "cell_type": "code",
      "source": [
        "sales.head()"
      ],
      "metadata": {
        "colab": {
          "base_uri": "https://localhost:8080/",
          "height": 206
        },
        "id": "w9jaRBL5IXWt",
        "outputId": "e2c37c49-1fe5-48e1-8911-83b429d0b5ed"
      },
      "execution_count": null,
      "outputs": [
        {
          "output_type": "execute_result",
          "data": {
            "text/plain": [
              "           Category      Sub Category         City  Order Date Region  Sales  \\\n",
              "0      Oil & Masala           Masalas      Vellore  08-11-2017  North   1254   \n",
              "1         Beverages     Health Drinks  Krishnagiri  08-11-2017  South    749   \n",
              "2       Food Grains      Atta & Flour   Perambalur  12-06-2017   West   2360   \n",
              "3  Fruits & Veggies  Fresh Vegetables   Dharmapuri  11-10-2016  South    896   \n",
              "4       Food Grains   Organic Staples         Ooty  11-10-2016  South   2355   \n",
              "\n",
              "   Discount  Profit  Month  Year   ticket size  \n",
              "0      0.12     401     11  2017  Medium Value  \n",
              "1      0.18     150     11  2017     Low Value  \n",
              "2      0.21     165      6  2017    High Value  \n",
              "3      0.25      90     10  2016     Low Value  \n",
              "4      0.26     918     10  2016    High Value  "
            ],
            "text/html": [
              "\n",
              "  <div id=\"df-021e054e-a3ae-4b3c-bf8f-4c25f79f7a9f\">\n",
              "    <div class=\"colab-df-container\">\n",
              "      <div>\n",
              "<style scoped>\n",
              "    .dataframe tbody tr th:only-of-type {\n",
              "        vertical-align: middle;\n",
              "    }\n",
              "\n",
              "    .dataframe tbody tr th {\n",
              "        vertical-align: top;\n",
              "    }\n",
              "\n",
              "    .dataframe thead th {\n",
              "        text-align: right;\n",
              "    }\n",
              "</style>\n",
              "<table border=\"1\" class=\"dataframe\">\n",
              "  <thead>\n",
              "    <tr style=\"text-align: right;\">\n",
              "      <th></th>\n",
              "      <th>Category</th>\n",
              "      <th>Sub Category</th>\n",
              "      <th>City</th>\n",
              "      <th>Order Date</th>\n",
              "      <th>Region</th>\n",
              "      <th>Sales</th>\n",
              "      <th>Discount</th>\n",
              "      <th>Profit</th>\n",
              "      <th>Month</th>\n",
              "      <th>Year</th>\n",
              "      <th>ticket size</th>\n",
              "    </tr>\n",
              "  </thead>\n",
              "  <tbody>\n",
              "    <tr>\n",
              "      <th>0</th>\n",
              "      <td>Oil &amp; Masala</td>\n",
              "      <td>Masalas</td>\n",
              "      <td>Vellore</td>\n",
              "      <td>08-11-2017</td>\n",
              "      <td>North</td>\n",
              "      <td>1254</td>\n",
              "      <td>0.12</td>\n",
              "      <td>401</td>\n",
              "      <td>11</td>\n",
              "      <td>2017</td>\n",
              "      <td>Medium Value</td>\n",
              "    </tr>\n",
              "    <tr>\n",
              "      <th>1</th>\n",
              "      <td>Beverages</td>\n",
              "      <td>Health Drinks</td>\n",
              "      <td>Krishnagiri</td>\n",
              "      <td>08-11-2017</td>\n",
              "      <td>South</td>\n",
              "      <td>749</td>\n",
              "      <td>0.18</td>\n",
              "      <td>150</td>\n",
              "      <td>11</td>\n",
              "      <td>2017</td>\n",
              "      <td>Low Value</td>\n",
              "    </tr>\n",
              "    <tr>\n",
              "      <th>2</th>\n",
              "      <td>Food Grains</td>\n",
              "      <td>Atta &amp; Flour</td>\n",
              "      <td>Perambalur</td>\n",
              "      <td>12-06-2017</td>\n",
              "      <td>West</td>\n",
              "      <td>2360</td>\n",
              "      <td>0.21</td>\n",
              "      <td>165</td>\n",
              "      <td>6</td>\n",
              "      <td>2017</td>\n",
              "      <td>High Value</td>\n",
              "    </tr>\n",
              "    <tr>\n",
              "      <th>3</th>\n",
              "      <td>Fruits &amp; Veggies</td>\n",
              "      <td>Fresh Vegetables</td>\n",
              "      <td>Dharmapuri</td>\n",
              "      <td>11-10-2016</td>\n",
              "      <td>South</td>\n",
              "      <td>896</td>\n",
              "      <td>0.25</td>\n",
              "      <td>90</td>\n",
              "      <td>10</td>\n",
              "      <td>2016</td>\n",
              "      <td>Low Value</td>\n",
              "    </tr>\n",
              "    <tr>\n",
              "      <th>4</th>\n",
              "      <td>Food Grains</td>\n",
              "      <td>Organic Staples</td>\n",
              "      <td>Ooty</td>\n",
              "      <td>11-10-2016</td>\n",
              "      <td>South</td>\n",
              "      <td>2355</td>\n",
              "      <td>0.26</td>\n",
              "      <td>918</td>\n",
              "      <td>10</td>\n",
              "      <td>2016</td>\n",
              "      <td>High Value</td>\n",
              "    </tr>\n",
              "  </tbody>\n",
              "</table>\n",
              "</div>\n",
              "      <button class=\"colab-df-convert\" onclick=\"convertToInteractive('df-021e054e-a3ae-4b3c-bf8f-4c25f79f7a9f')\"\n",
              "              title=\"Convert this dataframe to an interactive table.\"\n",
              "              style=\"display:none;\">\n",
              "        \n",
              "  <svg xmlns=\"http://www.w3.org/2000/svg\" height=\"24px\"viewBox=\"0 0 24 24\"\n",
              "       width=\"24px\">\n",
              "    <path d=\"M0 0h24v24H0V0z\" fill=\"none\"/>\n",
              "    <path d=\"M18.56 5.44l.94 2.06.94-2.06 2.06-.94-2.06-.94-.94-2.06-.94 2.06-2.06.94zm-11 1L8.5 8.5l.94-2.06 2.06-.94-2.06-.94L8.5 2.5l-.94 2.06-2.06.94zm10 10l.94 2.06.94-2.06 2.06-.94-2.06-.94-.94-2.06-.94 2.06-2.06.94z\"/><path d=\"M17.41 7.96l-1.37-1.37c-.4-.4-.92-.59-1.43-.59-.52 0-1.04.2-1.43.59L10.3 9.45l-7.72 7.72c-.78.78-.78 2.05 0 2.83L4 21.41c.39.39.9.59 1.41.59.51 0 1.02-.2 1.41-.59l7.78-7.78 2.81-2.81c.8-.78.8-2.07 0-2.86zM5.41 20L4 18.59l7.72-7.72 1.47 1.35L5.41 20z\"/>\n",
              "  </svg>\n",
              "      </button>\n",
              "      \n",
              "  <style>\n",
              "    .colab-df-container {\n",
              "      display:flex;\n",
              "      flex-wrap:wrap;\n",
              "      gap: 12px;\n",
              "    }\n",
              "\n",
              "    .colab-df-convert {\n",
              "      background-color: #E8F0FE;\n",
              "      border: none;\n",
              "      border-radius: 50%;\n",
              "      cursor: pointer;\n",
              "      display: none;\n",
              "      fill: #1967D2;\n",
              "      height: 32px;\n",
              "      padding: 0 0 0 0;\n",
              "      width: 32px;\n",
              "    }\n",
              "\n",
              "    .colab-df-convert:hover {\n",
              "      background-color: #E2EBFA;\n",
              "      box-shadow: 0px 1px 2px rgba(60, 64, 67, 0.3), 0px 1px 3px 1px rgba(60, 64, 67, 0.15);\n",
              "      fill: #174EA6;\n",
              "    }\n",
              "\n",
              "    [theme=dark] .colab-df-convert {\n",
              "      background-color: #3B4455;\n",
              "      fill: #D2E3FC;\n",
              "    }\n",
              "\n",
              "    [theme=dark] .colab-df-convert:hover {\n",
              "      background-color: #434B5C;\n",
              "      box-shadow: 0px 1px 3px 1px rgba(0, 0, 0, 0.15);\n",
              "      filter: drop-shadow(0px 1px 2px rgba(0, 0, 0, 0.3));\n",
              "      fill: #FFFFFF;\n",
              "    }\n",
              "  </style>\n",
              "\n",
              "      <script>\n",
              "        const buttonEl =\n",
              "          document.querySelector('#df-021e054e-a3ae-4b3c-bf8f-4c25f79f7a9f button.colab-df-convert');\n",
              "        buttonEl.style.display =\n",
              "          google.colab.kernel.accessAllowed ? 'block' : 'none';\n",
              "\n",
              "        async function convertToInteractive(key) {\n",
              "          const element = document.querySelector('#df-021e054e-a3ae-4b3c-bf8f-4c25f79f7a9f');\n",
              "          const dataTable =\n",
              "            await google.colab.kernel.invokeFunction('convertToInteractive',\n",
              "                                                     [key], {});\n",
              "          if (!dataTable) return;\n",
              "\n",
              "          const docLinkHtml = 'Like what you see? Visit the ' +\n",
              "            '<a target=\"_blank\" href=https://colab.research.google.com/notebooks/data_table.ipynb>data table notebook</a>'\n",
              "            + ' to learn more about interactive tables.';\n",
              "          element.innerHTML = '';\n",
              "          dataTable['output_type'] = 'display_data';\n",
              "          await google.colab.output.renderOutput(dataTable, element);\n",
              "          const docLink = document.createElement('div');\n",
              "          docLink.innerHTML = docLinkHtml;\n",
              "          element.appendChild(docLink);\n",
              "        }\n",
              "      </script>\n",
              "    </div>\n",
              "  </div>\n",
              "  "
            ]
          },
          "metadata": {},
          "execution_count": 12
        }
      ]
    },
    {
      "cell_type": "markdown",
      "source": [
        "# Preprocessing Before Model Building\n",
        "\n",
        "1.Label Encoder"
      ],
      "metadata": {
        "id": "CTrnS0drGxn1"
      }
    },
    {
      "cell_type": "code",
      "source": [
        "from sklearn.preprocessing import LabelEncoder\n",
        "le = LabelEncoder()"
      ],
      "metadata": {
        "id": "CxeLQBwdG7y1"
      },
      "execution_count": null,
      "outputs": []
    },
    {
      "cell_type": "code",
      "source": [
        "sales = sales.apply(le.fit_transform)"
      ],
      "metadata": {
        "id": "FOX_Nc7aG8uj"
      },
      "execution_count": null,
      "outputs": []
    },
    {
      "cell_type": "code",
      "source": [
        "sales"
      ],
      "metadata": {
        "colab": {
          "base_uri": "https://localhost:8080/",
          "height": 424
        },
        "id": "K1rsK9uuG88V",
        "outputId": "7d9d61b1-c43e-41de-d8ba-3dfeee1b921d"
      },
      "execution_count": null,
      "outputs": [
        {
          "output_type": "execute_result",
          "data": {
            "text/plain": [
              "      Category  Sub Category  City  Order Date  Region  Sales  Discount  \\\n",
              "0            5            14    21         317       2    748         2   \n",
              "1            1            13     8         317       3    246         8   \n",
              "2            3             0    13         460       4   1849        11   \n",
              "3            4            12     4         435       3    393        15   \n",
              "4            3            18    12         435       3   1845        16   \n",
              "...        ...           ...   ...         ...     ...    ...       ...   \n",
              "9989         2             9     9         972       4    442         6   \n",
              "9990         0             1     6         462       4    690        16   \n",
              "9991         3            20     0         219       4   1059         6   \n",
              "9992         5            22    14         642       4   1150         5   \n",
              "9993         3             0    19         661       4    531        18   \n",
              "\n",
              "      Profit  Month  Year  ticket size  \n",
              "0        376     10     2            2  \n",
              "1        125     10     2            1  \n",
              "2        140      5     2            0  \n",
              "3         65      9     1            1  \n",
              "4        888      9     1            0  \n",
              "...      ...    ...   ...          ...  \n",
              "9989     334     11     0            1  \n",
              "9990      47      6     0            1  \n",
              "9991     476      5     2            0  \n",
              "9992     572      9     3            0  \n",
              "9993     140      3     3            1  \n",
              "\n",
              "[9994 rows x 11 columns]"
            ],
            "text/html": [
              "\n",
              "  <div id=\"df-e7a43a08-387b-4c2d-890d-a8bfbe4feb2a\">\n",
              "    <div class=\"colab-df-container\">\n",
              "      <div>\n",
              "<style scoped>\n",
              "    .dataframe tbody tr th:only-of-type {\n",
              "        vertical-align: middle;\n",
              "    }\n",
              "\n",
              "    .dataframe tbody tr th {\n",
              "        vertical-align: top;\n",
              "    }\n",
              "\n",
              "    .dataframe thead th {\n",
              "        text-align: right;\n",
              "    }\n",
              "</style>\n",
              "<table border=\"1\" class=\"dataframe\">\n",
              "  <thead>\n",
              "    <tr style=\"text-align: right;\">\n",
              "      <th></th>\n",
              "      <th>Category</th>\n",
              "      <th>Sub Category</th>\n",
              "      <th>City</th>\n",
              "      <th>Order Date</th>\n",
              "      <th>Region</th>\n",
              "      <th>Sales</th>\n",
              "      <th>Discount</th>\n",
              "      <th>Profit</th>\n",
              "      <th>Month</th>\n",
              "      <th>Year</th>\n",
              "      <th>ticket size</th>\n",
              "    </tr>\n",
              "  </thead>\n",
              "  <tbody>\n",
              "    <tr>\n",
              "      <th>0</th>\n",
              "      <td>5</td>\n",
              "      <td>14</td>\n",
              "      <td>21</td>\n",
              "      <td>317</td>\n",
              "      <td>2</td>\n",
              "      <td>748</td>\n",
              "      <td>2</td>\n",
              "      <td>376</td>\n",
              "      <td>10</td>\n",
              "      <td>2</td>\n",
              "      <td>2</td>\n",
              "    </tr>\n",
              "    <tr>\n",
              "      <th>1</th>\n",
              "      <td>1</td>\n",
              "      <td>13</td>\n",
              "      <td>8</td>\n",
              "      <td>317</td>\n",
              "      <td>3</td>\n",
              "      <td>246</td>\n",
              "      <td>8</td>\n",
              "      <td>125</td>\n",
              "      <td>10</td>\n",
              "      <td>2</td>\n",
              "      <td>1</td>\n",
              "    </tr>\n",
              "    <tr>\n",
              "      <th>2</th>\n",
              "      <td>3</td>\n",
              "      <td>0</td>\n",
              "      <td>13</td>\n",
              "      <td>460</td>\n",
              "      <td>4</td>\n",
              "      <td>1849</td>\n",
              "      <td>11</td>\n",
              "      <td>140</td>\n",
              "      <td>5</td>\n",
              "      <td>2</td>\n",
              "      <td>0</td>\n",
              "    </tr>\n",
              "    <tr>\n",
              "      <th>3</th>\n",
              "      <td>4</td>\n",
              "      <td>12</td>\n",
              "      <td>4</td>\n",
              "      <td>435</td>\n",
              "      <td>3</td>\n",
              "      <td>393</td>\n",
              "      <td>15</td>\n",
              "      <td>65</td>\n",
              "      <td>9</td>\n",
              "      <td>1</td>\n",
              "      <td>1</td>\n",
              "    </tr>\n",
              "    <tr>\n",
              "      <th>4</th>\n",
              "      <td>3</td>\n",
              "      <td>18</td>\n",
              "      <td>12</td>\n",
              "      <td>435</td>\n",
              "      <td>3</td>\n",
              "      <td>1845</td>\n",
              "      <td>16</td>\n",
              "      <td>888</td>\n",
              "      <td>9</td>\n",
              "      <td>1</td>\n",
              "      <td>0</td>\n",
              "    </tr>\n",
              "    <tr>\n",
              "      <th>...</th>\n",
              "      <td>...</td>\n",
              "      <td>...</td>\n",
              "      <td>...</td>\n",
              "      <td>...</td>\n",
              "      <td>...</td>\n",
              "      <td>...</td>\n",
              "      <td>...</td>\n",
              "      <td>...</td>\n",
              "      <td>...</td>\n",
              "      <td>...</td>\n",
              "      <td>...</td>\n",
              "    </tr>\n",
              "    <tr>\n",
              "      <th>9989</th>\n",
              "      <td>2</td>\n",
              "      <td>9</td>\n",
              "      <td>9</td>\n",
              "      <td>972</td>\n",
              "      <td>4</td>\n",
              "      <td>442</td>\n",
              "      <td>6</td>\n",
              "      <td>334</td>\n",
              "      <td>11</td>\n",
              "      <td>0</td>\n",
              "      <td>1</td>\n",
              "    </tr>\n",
              "    <tr>\n",
              "      <th>9990</th>\n",
              "      <td>0</td>\n",
              "      <td>1</td>\n",
              "      <td>6</td>\n",
              "      <td>462</td>\n",
              "      <td>4</td>\n",
              "      <td>690</td>\n",
              "      <td>16</td>\n",
              "      <td>47</td>\n",
              "      <td>6</td>\n",
              "      <td>0</td>\n",
              "      <td>1</td>\n",
              "    </tr>\n",
              "    <tr>\n",
              "      <th>9991</th>\n",
              "      <td>3</td>\n",
              "      <td>20</td>\n",
              "      <td>0</td>\n",
              "      <td>219</td>\n",
              "      <td>4</td>\n",
              "      <td>1059</td>\n",
              "      <td>6</td>\n",
              "      <td>476</td>\n",
              "      <td>5</td>\n",
              "      <td>2</td>\n",
              "      <td>0</td>\n",
              "    </tr>\n",
              "    <tr>\n",
              "      <th>9992</th>\n",
              "      <td>5</td>\n",
              "      <td>22</td>\n",
              "      <td>14</td>\n",
              "      <td>642</td>\n",
              "      <td>4</td>\n",
              "      <td>1150</td>\n",
              "      <td>5</td>\n",
              "      <td>572</td>\n",
              "      <td>9</td>\n",
              "      <td>3</td>\n",
              "      <td>0</td>\n",
              "    </tr>\n",
              "    <tr>\n",
              "      <th>9993</th>\n",
              "      <td>3</td>\n",
              "      <td>0</td>\n",
              "      <td>19</td>\n",
              "      <td>661</td>\n",
              "      <td>4</td>\n",
              "      <td>531</td>\n",
              "      <td>18</td>\n",
              "      <td>140</td>\n",
              "      <td>3</td>\n",
              "      <td>3</td>\n",
              "      <td>1</td>\n",
              "    </tr>\n",
              "  </tbody>\n",
              "</table>\n",
              "<p>9994 rows × 11 columns</p>\n",
              "</div>\n",
              "      <button class=\"colab-df-convert\" onclick=\"convertToInteractive('df-e7a43a08-387b-4c2d-890d-a8bfbe4feb2a')\"\n",
              "              title=\"Convert this dataframe to an interactive table.\"\n",
              "              style=\"display:none;\">\n",
              "        \n",
              "  <svg xmlns=\"http://www.w3.org/2000/svg\" height=\"24px\"viewBox=\"0 0 24 24\"\n",
              "       width=\"24px\">\n",
              "    <path d=\"M0 0h24v24H0V0z\" fill=\"none\"/>\n",
              "    <path d=\"M18.56 5.44l.94 2.06.94-2.06 2.06-.94-2.06-.94-.94-2.06-.94 2.06-2.06.94zm-11 1L8.5 8.5l.94-2.06 2.06-.94-2.06-.94L8.5 2.5l-.94 2.06-2.06.94zm10 10l.94 2.06.94-2.06 2.06-.94-2.06-.94-.94-2.06-.94 2.06-2.06.94z\"/><path d=\"M17.41 7.96l-1.37-1.37c-.4-.4-.92-.59-1.43-.59-.52 0-1.04.2-1.43.59L10.3 9.45l-7.72 7.72c-.78.78-.78 2.05 0 2.83L4 21.41c.39.39.9.59 1.41.59.51 0 1.02-.2 1.41-.59l7.78-7.78 2.81-2.81c.8-.78.8-2.07 0-2.86zM5.41 20L4 18.59l7.72-7.72 1.47 1.35L5.41 20z\"/>\n",
              "  </svg>\n",
              "      </button>\n",
              "      \n",
              "  <style>\n",
              "    .colab-df-container {\n",
              "      display:flex;\n",
              "      flex-wrap:wrap;\n",
              "      gap: 12px;\n",
              "    }\n",
              "\n",
              "    .colab-df-convert {\n",
              "      background-color: #E8F0FE;\n",
              "      border: none;\n",
              "      border-radius: 50%;\n",
              "      cursor: pointer;\n",
              "      display: none;\n",
              "      fill: #1967D2;\n",
              "      height: 32px;\n",
              "      padding: 0 0 0 0;\n",
              "      width: 32px;\n",
              "    }\n",
              "\n",
              "    .colab-df-convert:hover {\n",
              "      background-color: #E2EBFA;\n",
              "      box-shadow: 0px 1px 2px rgba(60, 64, 67, 0.3), 0px 1px 3px 1px rgba(60, 64, 67, 0.15);\n",
              "      fill: #174EA6;\n",
              "    }\n",
              "\n",
              "    [theme=dark] .colab-df-convert {\n",
              "      background-color: #3B4455;\n",
              "      fill: #D2E3FC;\n",
              "    }\n",
              "\n",
              "    [theme=dark] .colab-df-convert:hover {\n",
              "      background-color: #434B5C;\n",
              "      box-shadow: 0px 1px 3px 1px rgba(0, 0, 0, 0.15);\n",
              "      filter: drop-shadow(0px 1px 2px rgba(0, 0, 0, 0.3));\n",
              "      fill: #FFFFFF;\n",
              "    }\n",
              "  </style>\n",
              "\n",
              "      <script>\n",
              "        const buttonEl =\n",
              "          document.querySelector('#df-e7a43a08-387b-4c2d-890d-a8bfbe4feb2a button.colab-df-convert');\n",
              "        buttonEl.style.display =\n",
              "          google.colab.kernel.accessAllowed ? 'block' : 'none';\n",
              "\n",
              "        async function convertToInteractive(key) {\n",
              "          const element = document.querySelector('#df-e7a43a08-387b-4c2d-890d-a8bfbe4feb2a');\n",
              "          const dataTable =\n",
              "            await google.colab.kernel.invokeFunction('convertToInteractive',\n",
              "                                                     [key], {});\n",
              "          if (!dataTable) return;\n",
              "\n",
              "          const docLinkHtml = 'Like what you see? Visit the ' +\n",
              "            '<a target=\"_blank\" href=https://colab.research.google.com/notebooks/data_table.ipynb>data table notebook</a>'\n",
              "            + ' to learn more about interactive tables.';\n",
              "          element.innerHTML = '';\n",
              "          dataTable['output_type'] = 'display_data';\n",
              "          await google.colab.output.renderOutput(dataTable, element);\n",
              "          const docLink = document.createElement('div');\n",
              "          docLink.innerHTML = docLinkHtml;\n",
              "          element.appendChild(docLink);\n",
              "        }\n",
              "      </script>\n",
              "    </div>\n",
              "  </div>\n",
              "  "
            ]
          },
          "metadata": {},
          "execution_count": 15
        }
      ]
    },
    {
      "cell_type": "code",
      "source": [
        "X = sales.iloc[:,[5, 7]].values\n",
        "y = sales.iloc[:, 7].values"
      ],
      "metadata": {
        "id": "3V3d37X_IyUi"
      },
      "execution_count": null,
      "outputs": []
    },
    {
      "cell_type": "code",
      "source": [
        "X, y"
      ],
      "metadata": {
        "colab": {
          "base_uri": "https://localhost:8080/"
        },
        "id": "b_yxZOhMI3my",
        "outputId": "aefead40-10bd-4158-a794-4278e4f3e90b"
      },
      "execution_count": null,
      "outputs": [
        {
          "output_type": "execute_result",
          "data": {
            "text/plain": [
              "(array([[ 748,  376],\n",
              "        [ 246,  125],\n",
              "        [1849,  140],\n",
              "        ...,\n",
              "        [1059,  476],\n",
              "        [1150,  572],\n",
              "        [ 531,  140]]), array([376, 125, 140, ..., 476, 572, 140]))"
            ]
          },
          "metadata": {},
          "execution_count": 56
        }
      ]
    },
    {
      "cell_type": "markdown",
      "source": [
        "# Train-Test Split\n"
      ],
      "metadata": {
        "id": "3SQqfgYuJBGu"
      }
    },
    {
      "cell_type": "code",
      "source": [
        "from sklearn.model_selection import train_test_split"
      ],
      "metadata": {
        "id": "W4QaJd4dJNKj"
      },
      "execution_count": null,
      "outputs": []
    },
    {
      "cell_type": "code",
      "source": [
        "X_train, X_test, y_train, y_test = train_test_split(X, y, test_size=0.3, random_state=0)"
      ],
      "metadata": {
        "id": "SRaPlBPxJjMl"
      },
      "execution_count": null,
      "outputs": []
    },
    {
      "cell_type": "code",
      "source": [
        "X_train, X_test, y_train, y_test"
      ],
      "metadata": {
        "colab": {
          "base_uri": "https://localhost:8080/"
        },
        "id": "VItC_oatJol2",
        "outputId": "399c62cc-437b-4216-ba23-d8baff2b5fb0"
      },
      "execution_count": null,
      "outputs": [
        {
          "output_type": "execute_result",
          "data": {
            "text/plain": [
              "(array([[ 949,  529],\n",
              "        [ 312,  105],\n",
              "        [1735,  379],\n",
              "        ...,\n",
              "        [1719,  800],\n",
              "        [ 448,  127],\n",
              "        [ 593,  425]]), array([[ 109,   97],\n",
              "        [1203,  523],\n",
              "        [ 140,   39],\n",
              "        ...,\n",
              "        [ 993,  230],\n",
              "        [ 384,  152],\n",
              "        [ 456,  176]]), array([529, 105, 379, ..., 800, 127, 425]), array([ 97, 523,  39, ..., 230, 152, 176]))"
            ]
          },
          "metadata": {},
          "execution_count": 87
        }
      ]
    },
    {
      "cell_type": "markdown",
      "source": [
        "## Standard Scaler"
      ],
      "metadata": {
        "id": "2MtgF1BDiwmX"
      }
    },
    {
      "cell_type": "code",
      "source": [
        "from sklearn.preprocessing import StandardScaler\n",
        "sc = StandardScaler()"
      ],
      "metadata": {
        "id": "aj74xNNlJpTv"
      },
      "execution_count": null,
      "outputs": []
    },
    {
      "cell_type": "code",
      "source": [
        "X_train = sc.fit_transform(X_train)"
      ],
      "metadata": {
        "id": "lkhQj_-TMaeg"
      },
      "execution_count": null,
      "outputs": []
    },
    {
      "cell_type": "code",
      "source": [
        "X_test = sc.transform(X_test)"
      ],
      "metadata": {
        "id": "PdlB4sXNMcf5"
      },
      "execution_count": null,
      "outputs": []
    },
    {
      "cell_type": "code",
      "source": [
        "X_test"
      ],
      "metadata": {
        "colab": {
          "base_uri": "https://localhost:8080/"
        },
        "id": "HtSq3hpLMfWB",
        "outputId": "c75d82b4-ca3d-4169-8991-f420431d2b66"
      },
      "execution_count": null,
      "outputs": [
        {
          "output_type": "execute_result",
          "data": {
            "text/plain": [
              "array([[-1.55719232, -1.07500618],\n",
              "       [ 0.34682638,  0.71371946],\n",
              "       [-1.50323932, -1.3185416 ],\n",
              "       ...,\n",
              "       [-0.01866167, -0.51655428],\n",
              "       [-1.07857702, -0.84406743],\n",
              "       [-0.95326683, -0.74329415]])"
            ]
          },
          "metadata": {},
          "execution_count": 92
        }
      ]
    },
    {
      "cell_type": "markdown",
      "source": [
        "# Linear Regression"
      ],
      "metadata": {
        "id": "PKj23dvFi1we"
      }
    },
    {
      "cell_type": "code",
      "source": [
        "from sklearn.linear_model import LinearRegression"
      ],
      "metadata": {
        "id": "8ammURXcMhgu"
      },
      "execution_count": null,
      "outputs": []
    },
    {
      "cell_type": "code",
      "source": [
        "regressor = LinearRegression()"
      ],
      "metadata": {
        "id": "gYWXUTIxMkre"
      },
      "execution_count": null,
      "outputs": []
    },
    {
      "cell_type": "code",
      "source": [
        "regressor.fit(X_train, y_train)"
      ],
      "metadata": {
        "colab": {
          "base_uri": "https://localhost:8080/"
        },
        "id": "qKTNV5QMMmp7",
        "outputId": "58bc33b3-c694-46fe-9c00-95e4cbd3484a"
      },
      "execution_count": null,
      "outputs": [
        {
          "output_type": "execute_result",
          "data": {
            "text/plain": [
              "LinearRegression()"
            ]
          },
          "metadata": {},
          "execution_count": 95
        }
      ]
    },
    {
      "cell_type": "code",
      "source": [
        "X_train"
      ],
      "metadata": {
        "colab": {
          "base_uri": "https://localhost:8080/"
        },
        "id": "GD52l18OMoTh",
        "outputId": "b114b8b5-68a9-4fac-9e03-e3b350879bb1"
      },
      "execution_count": null,
      "outputs": [
        {
          "output_type": "execute_result",
          "data": {
            "text/plain": [
              "array([[-0.09524012,  0.73891278],\n",
              "       [-1.2038872 , -1.04141509],\n",
              "       [ 1.27272943,  0.10907981],\n",
              "       ...,\n",
              "       [ 1.24488272,  1.87681102],\n",
              "       [-0.96719018, -0.94903959],\n",
              "       [-0.71482939,  0.30222859]])"
            ]
          },
          "metadata": {},
          "execution_count": 96
        }
      ]
    },
    {
      "cell_type": "code",
      "source": [
        "y_pred = regressor.predict(X_test)"
      ],
      "metadata": {
        "id": "k1BjkqkxMqSW"
      },
      "execution_count": null,
      "outputs": []
    },
    {
      "cell_type": "code",
      "source": [
        "y_pred"
      ],
      "metadata": {
        "colab": {
          "base_uri": "https://localhost:8080/"
        },
        "id": "lJxlwbb9MsWu",
        "outputId": "d29e116c-c72b-4f1b-9e15-c1119c022ada"
      },
      "execution_count": null,
      "outputs": [
        {
          "output_type": "execute_result",
          "data": {
            "text/plain": [
              "array([ 97., 523.,  39., ..., 230., 152., 176.])"
            ]
          },
          "metadata": {},
          "execution_count": 98
        }
      ]
    },
    {
      "cell_type": "code",
      "source": [
        "from sklearn import metrics"
      ],
      "metadata": {
        "id": "n3dKi1FrMuR7"
      },
      "execution_count": null,
      "outputs": []
    },
    {
      "cell_type": "code",
      "source": [
        "print(metrics.mean_squared_error(y_test, y_pred))"
      ],
      "metadata": {
        "colab": {
          "base_uri": "https://localhost:8080/"
        },
        "id": "tNgV7en8Mv2Q",
        "outputId": "3ef1ba84-33c5-4ced-f3d3-2f7294626781"
      },
      "execution_count": null,
      "outputs": [
        {
          "output_type": "stream",
          "name": "stdout",
          "text": [
            "2.029045995267289e-27\n"
          ]
        }
      ]
    },
    {
      "cell_type": "code",
      "source": [
        "print(metrics.mean_absolute_error(y_test, y_pred))"
      ],
      "metadata": {
        "colab": {
          "base_uri": "https://localhost:8080/"
        },
        "id": "bVTb8FG5Mx5C",
        "outputId": "020f7e4f-ba88-430e-984a-9b14be8e0c84"
      },
      "execution_count": null,
      "outputs": [
        {
          "output_type": "stream",
          "name": "stdout",
          "text": [
            "2.093483032069438e-14\n"
          ]
        }
      ]
    },
    {
      "cell_type": "code",
      "source": [
        "print(np.sqrt(metrics.mean_squared_error(y_test, y_pred)))"
      ],
      "metadata": {
        "colab": {
          "base_uri": "https://localhost:8080/"
        },
        "id": "FPog0iQxMz1H",
        "outputId": "a4608b79-54df-4b0a-aeb9-99f5ebabb07e"
      },
      "execution_count": null,
      "outputs": [
        {
          "output_type": "stream",
          "name": "stdout",
          "text": [
            "4.5044933069850255e-14\n"
          ]
        }
      ]
    },
    {
      "cell_type": "code",
      "source": [
        "print(metrics.r2_score(y_test, y_pred))"
      ],
      "metadata": {
        "colab": {
          "base_uri": "https://localhost:8080/"
        },
        "id": "bmoSqzTaM1-V",
        "outputId": "019212cd-dc12-46fd-b2bc-10ae12e082e6"
      },
      "execution_count": null,
      "outputs": [
        {
          "output_type": "stream",
          "name": "stdout",
          "text": [
            "1.0\n"
          ]
        }
      ]
    },
    {
      "cell_type": "markdown",
      "source": [
        "# Random Forest"
      ],
      "metadata": {
        "id": "H53zQsNRM6YQ"
      }
    },
    {
      "cell_type": "code",
      "source": [
        "from sklearn.ensemble import RandomForestRegressor\n",
        "rf = RandomForestRegressor()"
      ],
      "metadata": {
        "id": "Ix2WTkJVM3vp"
      },
      "execution_count": null,
      "outputs": []
    },
    {
      "cell_type": "code",
      "source": [
        "rf.fit(X_train, y_train)"
      ],
      "metadata": {
        "colab": {
          "base_uri": "https://localhost:8080/"
        },
        "id": "nJL35ZsWM8hh",
        "outputId": "0f35b707-7868-4bbc-88b0-2738cccdbfeb"
      },
      "execution_count": null,
      "outputs": [
        {
          "output_type": "execute_result",
          "data": {
            "text/plain": [
              "RandomForestRegressor()"
            ]
          },
          "metadata": {},
          "execution_count": 105
        }
      ]
    },
    {
      "cell_type": "code",
      "source": [
        "y_pred = rf.predict(X_test)"
      ],
      "metadata": {
        "id": "0k8kPP84M-iW"
      },
      "execution_count": null,
      "outputs": []
    },
    {
      "cell_type": "code",
      "source": [
        "print(metrics.mean_squared_error(y_test, y_pred))\n",
        "print(metrics.mean_absolute_error(y_test, y_pred))\n",
        "print(np.sqrt(metrics.mean_squared_error(y_test, y_pred)))\n",
        "print(metrics.r2_score(y_test, y_pred))"
      ],
      "metadata": {
        "colab": {
          "base_uri": "https://localhost:8080/"
        },
        "id": "bJSvE7z0NAWb",
        "outputId": "de756122-4614-42f8-d67c-aaf51d272494"
      },
      "execution_count": null,
      "outputs": [
        {
          "output_type": "stream",
          "name": "stdout",
          "text": [
            "0.017469356452150597\n",
            "0.035278426142044655\n",
            "0.1321716930819553\n",
            "0.9999996960155861\n"
          ]
        }
      ]
    },
    {
      "cell_type": "markdown",
      "source": [
        "# Decision Tree"
      ],
      "metadata": {
        "id": "wBVi4B_TNIFn"
      }
    },
    {
      "cell_type": "code",
      "source": [
        "from sklearn.tree import DecisionTreeClassifier"
      ],
      "metadata": {
        "id": "P259bVyQNDln"
      },
      "execution_count": null,
      "outputs": []
    },
    {
      "cell_type": "code",
      "source": [
        "clf = DecisionTreeClassifier()\n",
        "clf.fit(X_train, y_train)"
      ],
      "metadata": {
        "colab": {
          "base_uri": "https://localhost:8080/"
        },
        "id": "rur6kwrWNKje",
        "outputId": "3df2d5eb-55da-45ba-8ec2-5f193fa06186"
      },
      "execution_count": null,
      "outputs": [
        {
          "output_type": "execute_result",
          "data": {
            "text/plain": [
              "DecisionTreeClassifier()"
            ]
          },
          "metadata": {},
          "execution_count": 109
        }
      ]
    },
    {
      "cell_type": "code",
      "source": [
        "y_pred = clf.predict(X_test)"
      ],
      "metadata": {
        "id": "NrmsV9t6NM8m"
      },
      "execution_count": null,
      "outputs": []
    },
    {
      "cell_type": "code",
      "source": [
        "from sklearn.metrics import accuracy_score"
      ],
      "metadata": {
        "id": "OU2-LswYNPNC"
      },
      "execution_count": null,
      "outputs": []
    },
    {
      "cell_type": "code",
      "source": [
        "print(\"training accuracy (Gini):\", accuracy_score(y_train, clf.predict(X_train)))\n",
        "print(\"test accuracy (gini):\", accuracy_score(y_test, y_pred))"
      ],
      "metadata": {
        "colab": {
          "base_uri": "https://localhost:8080/"
        },
        "id": "HFxspPDVNSCI",
        "outputId": "8b4f0a97-015a-4482-fed4-e8bc47e92622"
      },
      "execution_count": null,
      "outputs": [
        {
          "output_type": "stream",
          "name": "stdout",
          "text": [
            "training accuracy (Gini): 1.0\n",
            "test accuracy (gini): 0.9696565521840613\n"
          ]
        }
      ]
    },
    {
      "cell_type": "code",
      "source": [
        "from sklearn import tree"
      ],
      "metadata": {
        "id": "g86l7ovbNVD3"
      },
      "execution_count": null,
      "outputs": []
    },
    {
      "cell_type": "code",
      "source": [
        "plt.figure(figsize=(10,10))\n",
        "tree.plot_tree(clf)\n",
        "plt.show()"
      ],
      "metadata": {
        "colab": {
          "base_uri": "https://localhost:8080/",
          "height": 658
        },
        "id": "WR6gYAheNZ5C",
        "outputId": "c595a734-f71b-459d-cb49-f10d0a5136ca"
      },
      "execution_count": null,
      "outputs": [
        {
          "output_type": "display_data",
          "data": {
            "text/plain": [
              "<Figure size 720x720 with 1 Axes>"
            ],
            "image/png": "[encoded data removed]"
          },
          "metadata": {
            "needs_background": "light"
          }
        }
      ]
    }
  ]
}